{
 "cells": [
  {
   "cell_type": "code",
   "execution_count": 1,
   "metadata": {},
   "outputs": [],
   "source": [
    "import numpy as np"
   ]
  },
  {
   "cell_type": "code",
   "execution_count": 10,
   "metadata": {},
   "outputs": [],
   "source": [
    "# NN strucutre\n",
    "# 2 inputs, 1 hidden layer, 2 outputs, 8 weights, 2 bias values\n",
    "\n",
    "X = np.array([0.05, 0.10])\n",
    "y = np.array([0.01, 0.99]) # also known as targeted values\n",
    "\n",
    "# weights from w1.. to w8, len = 8\n",
    "weights = np.array([0.15, 0.20, 0.25, 0.30, 0.40, 0.45, 0.50, 0.55])\n",
    "\n",
    "# bias values\n",
    "bias = np.array([0.35, 0.60])\n",
    "\n"
   ]
  },
  {
   "cell_type": "code",
   "execution_count": 12,
   "metadata": {},
   "outputs": [],
   "source": [
    "# activation function , using sigmoid\n",
    "def sigmoid(x):\n",
    "    return 1/(1+np.exp(-x))"
   ]
  },
  {
   "cell_type": "code",
   "execution_count": 67,
   "metadata": {},
   "outputs": [],
   "source": [
    "def forward_pass_nn(x, weight, bias):\n",
    "    # finding hidden layer val\n",
    "    hidden_layer = np.sum([(x*weight) for x,weight in zip(x,weight)]) + bias\n",
    "\n",
    "    # applying activation  function, Ф(x)\n",
    "    return sigmoid(hidden_layer)\n",
    "    "
   ]
  },
  {
   "cell_type": "code",
   "execution_count": 73,
   "metadata": {},
   "outputs": [],
   "source": [
    "# calculating H1, H2 output (hidden layer outputs)\n",
    "out_h1 = forward_pass(x=X, weight=weights[0:2], bias=bias[0])\n",
    "out_h2 = forward_pass(x=X, weight=weights[3:5], bias=bias[0])"
   ]
  },
  {
   "cell_type": "code",
   "execution_count": 77,
   "metadata": {},
   "outputs": [],
   "source": [
    "# calculating output (y1, y2)\n",
    "out_y1 = forward_pass_nn(x=np.array([out_h1, out_h2]), weight=weights[5:7], bias=bias[1])\n",
    "out_y2 = forward_pass_nn(x=np.array([out_h1, out_h2]), weight=weights[7:9], bias=bias[1])"
   ]
  },
  {
   "cell_type": "code",
   "execution_count": 89,
   "metadata": {},
   "outputs": [],
   "source": [
    "# calculating error\n",
    "# error = 1/2(target-output)^2\n",
    "\n",
    "error = np.sum([(0.5)*(target-output)**2 for target,output in zip(y, np.array([out_y1, out_y2]))])        "
   ]
  },
  {
   "cell_type": "code",
   "execution_count": 105,
   "metadata": {},
   "outputs": [
    {
     "name": "stdout",
     "output_type": "stream",
     "text": [
      "Predicted outcomes, y1 = 0.7625870581385014 , y2 = 0.7163237274866032\n",
      "Error = 0.3206429911071955\n",
      "Error Percentage = 32.0 %\n"
     ]
    }
   ],
   "source": [
    "# CONCLUSION\n",
    "print(\"Predicted outcomes, y1 = {} , y2 = {}\".format(out_y1, out_y2))\n",
    "print(\"Error = {}\".format(error))\n",
    "print(\"Error Percentage = {} %\".format(round(error*100)))"
   ]
  },
  {
   "cell_type": "code",
   "execution_count": 111,
   "metadata": {},
   "outputs": [],
   "source": [
    "import matplotlib.pyplot as plt"
   ]
  },
  {
   "cell_type": "code",
   "execution_count": 113,
   "metadata": {},
   "outputs": [
    {
     "data": {
      "text/plain": [
       "<matplotlib.collections.PathCollection at 0x34229fd208>"
      ]
     },
     "execution_count": 113,
     "metadata": {},
     "output_type": "execute_result"
    },
    {
     "data": {
      "image/png": "[encoded data removed]",
      "text/plain": [
       "<Figure size 432x288 with 1 Axes>"
      ]
     },
     "metadata": {
      "needs_background": "light"
     },
     "output_type": "display_data"
    }
   ],
   "source": [
    "plt.scatter(X, y)"
   ]
  },
  {
   "cell_type": "code",
   "execution_count": null,
   "metadata": {},
   "outputs": [],
   "source": []
  }
 ],
 "metadata": {
  "kernelspec": {
   "display_name": "Python 3",
   "language": "python",
   "name": "python3"
  },
  "language_info": {
   "codemirror_mode": {
    "name": "ipython",
    "version": 3
   },
   "file_extension": ".py",
   "mimetype": "text/x-python",
   "name": "python",
   "nbconvert_exporter": "python",
   "pygments_lexer": "ipython3",
   "version": "3.7.3"
  }
 },
 "nbformat": 4,
 "nbformat_minor": 2
}
