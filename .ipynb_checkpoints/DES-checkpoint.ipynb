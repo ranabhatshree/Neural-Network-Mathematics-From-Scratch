{
 "cells": [
  {
   "cell_type": "code",
   "execution_count": 3,
   "metadata": {},
   "outputs": [
    {
     "name": "stdout",
     "output_type": "stream",
     "text": [
      "[57, 49, 41, 33, 25, 17, 9, 1, 58, 50, 42, 34, 26, 18, 10, 2, 59, 51, 43, 35, 27, 19, 11, 3, 60, 52, 44, 36, 63, 55, 47, 39, 31, 23, 15, 7, 62, 54, 46, 38, 30, 22, 14, 6, 61, 53, 45, 37, 29, 21, 13, 5, 28, 20, 12, 4]\n"
     ]
    }
   ],
   "source": [
    "def to_binary(string):\n",
    "    scale = num_of_bits = 16\n",
    "    return list(bin(int(string, scale))[2:].zfill(num_of_bits))\n",
    "\n",
    "def DES():\n",
    "    # len = 64\n",
    "    pc1 = [\n",
    "        57, 49, 41, 33, 25, 17, 9, 2,\n",
    "        1, 58, 50, 42, 34, 26, 18, 4, \n",
    "        10, 2, 59, 51, 43, 35, 27, 6, \n",
    "        19, 11, 3, 60, 52, 44, 36, 8,\n",
    "        63, 55, 47, 39, 31, 23, 15, 1,\n",
    "        7, 62, 54, 46, 38, 30, 22, 3,\n",
    "        14, 6, 61, 53, 45, 37, 29, 5,\n",
    "        21, 13, 5, 28, 20, 12, 4, 7\n",
    "    ]\n",
    "\n",
    "    raw_key = to_binary('ABCDEF1234567890')\n",
    "    raw2_key = []\n",
    "\n",
    "    for i in range(len(pc1)):\n",
    "        if (i+1) % 8 == 0:\n",
    "            # do nothing\n",
    "            continue \n",
    "        else:\n",
    "            raw2_key.append(pc1[i])\n",
    "    \n"
   ]
  },
  {
   "cell_type": "code",
   "execution_count": null,
   "metadata": {},
   "outputs": [],
   "source": []
  },
  {
   "cell_type": "code",
   "execution_count": null,
   "metadata": {},
   "outputs": [],
   "source": []
  }
 ],
 "metadata": {
  "kernelspec": {
   "display_name": "Python 3",
   "language": "python",
   "name": "python3"
  },
  "language_info": {
   "codemirror_mode": {
    "name": "ipython",
    "version": 3
   },
   "file_extension": ".py",
   "mimetype": "text/x-python",
   "name": "python",
   "nbconvert_exporter": "python",
   "pygments_lexer": "ipython3",
   "version": "3.7.3"
  }
 },
 "nbformat": 4,
 "nbformat_minor": 2
}
